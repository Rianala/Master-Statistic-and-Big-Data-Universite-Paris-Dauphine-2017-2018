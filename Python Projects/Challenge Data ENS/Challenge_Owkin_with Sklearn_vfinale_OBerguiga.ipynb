{
 "cells": [
  {
   "cell_type": "code",
   "execution_count": 6,
   "metadata": {},
   "outputs": [],
   "source": [
    "import pandas as pd\n",
    "import numpy as np\n",
    "from sklearn.neural_network import MLPClassifier\n",
    "import csv\n",
    "import os\n",
    "from sklearn.metrics import accuracy_score\n",
    "\n",
    "\n",
    "#from sklearn.linear_model import LogisticRegressionCV\n",
    "#from sklearn.linear_model import LogisticRegression\n",
    "\n",
    "#from sklearn.feature_selection import SelectFromModel\n",
    "#from sklearn.ensemble import GradientBoostingClassifier\n",
    "#from sklearn.ensemble import RandomForestClassifier\n",
    "\n",
    "#from sklearn.tree import DecisionTreeClassifier\n",
    "\n"
   ]
  },
  {
   "cell_type": "code",
   "execution_count": 7,
   "metadata": {},
   "outputs": [],
   "source": [
    "#découpage du jeu de données (très volumineux) en plusieurs csv de taille \"2000 lignes\"\n",
    "\n",
    "size=2000\n",
    "\n",
    "def split(filehandler, delimiter=',', row_limit=size,output_name_template='output_%s.csv', output_path='.', keep_headers=True):\n",
    "    \"\"\"\n",
    "    Splits a CSV file into multiple pieces.\n",
    "\n",
    "    A quick bastardization of the Python CSV library.\n",
    "\n",
    "    Arguments:\n",
    "\n",
    "        `row_limit`: The number of rows you want in each output file. 10,000 by default.\n",
    "        `output_name_template`: A %s-style template for the numbered output files.\n",
    "        `output_path`: Where to stick the output files.\n",
    "        `keep_headers`: Whether or not to print the headers in each output file.\n",
    "\n",
    "    Example usage:\n",
    "\n",
    "        >> from toolbox import csv_splitter;\n",
    "        >> csv_splitter.split(open('/home/ben/input.csv', 'r'));\n",
    "\n",
    "    \"\"\"\n",
    "\n",
    "    reader = csv.reader(filehandler, delimiter=delimiter)\n",
    "    current_piece = 1\n",
    "    current_out_path = os.path.join(\n",
    "         output_path,\n",
    "         output_name_template  % current_piece\n",
    "    )\n",
    "    current_out_writer = csv.writer(open(current_out_path, 'w'), delimiter=delimiter)\n",
    "    current_limit = row_limit\n",
    "    if keep_headers:\n",
    "        headers = next(reader)\n",
    "        current_out_writer.writerow(headers)\n",
    "    for i, row in enumerate(reader):\n",
    "        if i + 1 > current_limit:\n",
    "            current_piece += 1\n",
    "            current_limit = row_limit * current_piece\n",
    "            current_out_path = os.path.join(\n",
    "               output_path,\n",
    "               output_name_template  % current_piece\n",
    "            )\n",
    "            current_out_writer = csv.writer(open(current_out_path, 'w'), delimiter=delimiter)\n",
    "            if keep_headers:\n",
    "                current_out_writer.writerow(headers)\n",
    "        current_out_writer.writerow(row)\n",
    "\n",
    "\n",
    "\n",
    "\n",
    "        \n"
   ]
  },
  {
   "cell_type": "code",
   "execution_count": 8,
   "metadata": {},
   "outputs": [],
   "source": [
    "split(open('Xtrain_challenge_owkin.csv', 'r'))"
   ]
  },
  {
   "cell_type": "code",
   "execution_count": 9,
   "metadata": {},
   "outputs": [],
   "source": [
    "train_output=pd.read_csv('challenge_output_data_training_file_disease_prediction_from_dna_data.csv',sep=';')"
   ]
  },
  {
   "cell_type": "code",
   "execution_count": 10,
   "metadata": {},
   "outputs": [
    {
     "name": "stderr",
     "output_type": "stream",
     "text": [
      "C:\\Users\\oussa\\Anaconda3\\lib\\site-packages\\sklearn\\neural_network\\multilayer_perceptron.py:927: DeprecationWarning: The truth value of an empty array is ambiguous. Returning False, but in future this will result in an error. Use `array.size > 0` to check that an array is not empty.\n",
      "  if np.setdiff1d(classes, self.classes_, assume_unique=True):\n"
     ]
    },
    {
     "name": "stdout",
     "output_type": "stream",
     "text": [
      "1\n",
      "0.662\n"
     ]
    },
    {
     "name": "stderr",
     "output_type": "stream",
     "text": [
      "C:\\Users\\oussa\\Anaconda3\\lib\\site-packages\\sklearn\\neural_network\\multilayer_perceptron.py:927: DeprecationWarning: The truth value of an empty array is ambiguous. Returning False, but in future this will result in an error. Use `array.size > 0` to check that an array is not empty.\n",
      "  if np.setdiff1d(classes, self.classes_, assume_unique=True):\n"
     ]
    },
    {
     "name": "stdout",
     "output_type": "stream",
     "text": [
      "2\n",
      "0.652\n"
     ]
    },
    {
     "name": "stderr",
     "output_type": "stream",
     "text": [
      "C:\\Users\\oussa\\Anaconda3\\lib\\site-packages\\sklearn\\neural_network\\multilayer_perceptron.py:927: DeprecationWarning: The truth value of an empty array is ambiguous. Returning False, but in future this will result in an error. Use `array.size > 0` to check that an array is not empty.\n",
      "  if np.setdiff1d(classes, self.classes_, assume_unique=True):\n"
     ]
    },
    {
     "name": "stdout",
     "output_type": "stream",
     "text": [
      "3\n",
      "0.696\n"
     ]
    },
    {
     "name": "stderr",
     "output_type": "stream",
     "text": [
      "C:\\Users\\oussa\\Anaconda3\\lib\\site-packages\\sklearn\\neural_network\\multilayer_perceptron.py:927: DeprecationWarning: The truth value of an empty array is ambiguous. Returning False, but in future this will result in an error. Use `array.size > 0` to check that an array is not empty.\n",
      "  if np.setdiff1d(classes, self.classes_, assume_unique=True):\n"
     ]
    },
    {
     "name": "stdout",
     "output_type": "stream",
     "text": [
      "4\n",
      "0.683\n"
     ]
    },
    {
     "name": "stderr",
     "output_type": "stream",
     "text": [
      "C:\\Users\\oussa\\Anaconda3\\lib\\site-packages\\sklearn\\neural_network\\multilayer_perceptron.py:927: DeprecationWarning: The truth value of an empty array is ambiguous. Returning False, but in future this will result in an error. Use `array.size > 0` to check that an array is not empty.\n",
      "  if np.setdiff1d(classes, self.classes_, assume_unique=True):\n"
     ]
    },
    {
     "name": "stdout",
     "output_type": "stream",
     "text": [
      "5\n",
      "0.7315\n"
     ]
    },
    {
     "name": "stderr",
     "output_type": "stream",
     "text": [
      "C:\\Users\\oussa\\Anaconda3\\lib\\site-packages\\sklearn\\neural_network\\multilayer_perceptron.py:927: DeprecationWarning: The truth value of an empty array is ambiguous. Returning False, but in future this will result in an error. Use `array.size > 0` to check that an array is not empty.\n",
      "  if np.setdiff1d(classes, self.classes_, assume_unique=True):\n"
     ]
    },
    {
     "name": "stdout",
     "output_type": "stream",
     "text": [
      "6\n",
      "0.7275\n"
     ]
    },
    {
     "name": "stderr",
     "output_type": "stream",
     "text": [
      "C:\\Users\\oussa\\Anaconda3\\lib\\site-packages\\sklearn\\neural_network\\multilayer_perceptron.py:927: DeprecationWarning: The truth value of an empty array is ambiguous. Returning False, but in future this will result in an error. Use `array.size > 0` to check that an array is not empty.\n",
      "  if np.setdiff1d(classes, self.classes_, assume_unique=True):\n"
     ]
    },
    {
     "name": "stdout",
     "output_type": "stream",
     "text": [
      "7\n",
      "0.7395\n"
     ]
    },
    {
     "name": "stderr",
     "output_type": "stream",
     "text": [
      "C:\\Users\\oussa\\Anaconda3\\lib\\site-packages\\sklearn\\neural_network\\multilayer_perceptron.py:927: DeprecationWarning: The truth value of an empty array is ambiguous. Returning False, but in future this will result in an error. Use `array.size > 0` to check that an array is not empty.\n",
      "  if np.setdiff1d(classes, self.classes_, assume_unique=True):\n"
     ]
    },
    {
     "name": "stdout",
     "output_type": "stream",
     "text": [
      "8\n",
      "0.7175\n"
     ]
    },
    {
     "name": "stderr",
     "output_type": "stream",
     "text": [
      "C:\\Users\\oussa\\Anaconda3\\lib\\site-packages\\sklearn\\neural_network\\multilayer_perceptron.py:927: DeprecationWarning: The truth value of an empty array is ambiguous. Returning False, but in future this will result in an error. Use `array.size > 0` to check that an array is not empty.\n",
      "  if np.setdiff1d(classes, self.classes_, assume_unique=True):\n"
     ]
    },
    {
     "name": "stdout",
     "output_type": "stream",
     "text": [
      "9\n",
      "0.734\n"
     ]
    },
    {
     "name": "stderr",
     "output_type": "stream",
     "text": [
      "C:\\Users\\oussa\\Anaconda3\\lib\\site-packages\\sklearn\\neural_network\\multilayer_perceptron.py:927: DeprecationWarning: The truth value of an empty array is ambiguous. Returning False, but in future this will result in an error. Use `array.size > 0` to check that an array is not empty.\n",
      "  if np.setdiff1d(classes, self.classes_, assume_unique=True):\n"
     ]
    },
    {
     "name": "stdout",
     "output_type": "stream",
     "text": [
      "10\n",
      "0.751\n"
     ]
    },
    {
     "name": "stderr",
     "output_type": "stream",
     "text": [
      "C:\\Users\\oussa\\Anaconda3\\lib\\site-packages\\sklearn\\neural_network\\multilayer_perceptron.py:927: DeprecationWarning: The truth value of an empty array is ambiguous. Returning False, but in future this will result in an error. Use `array.size > 0` to check that an array is not empty.\n",
      "  if np.setdiff1d(classes, self.classes_, assume_unique=True):\n"
     ]
    },
    {
     "name": "stdout",
     "output_type": "stream",
     "text": [
      "11\n",
      "0.7725\n"
     ]
    },
    {
     "name": "stderr",
     "output_type": "stream",
     "text": [
      "C:\\Users\\oussa\\Anaconda3\\lib\\site-packages\\sklearn\\neural_network\\multilayer_perceptron.py:927: DeprecationWarning: The truth value of an empty array is ambiguous. Returning False, but in future this will result in an error. Use `array.size > 0` to check that an array is not empty.\n",
      "  if np.setdiff1d(classes, self.classes_, assume_unique=True):\n"
     ]
    },
    {
     "name": "stdout",
     "output_type": "stream",
     "text": [
      "12\n",
      "0.7705\n"
     ]
    }
   ],
   "source": [
    "#apprentissage incrémental sur un algorithme Perceptron Multi Couche grâce à l'option \"partial_fit\" de sklearn\n",
    "\n",
    "path=\"C:\\\\Users\\\\oussa\\\\Downloads\\\\Data Science\\\\Master Statistique Big Data Dauphine\\\\Module 3\\\\Optimisation\\\\Challenge Data ENS Owking\\\\\"\n",
    "modele=MLPClassifier()\n",
    "\n",
    "k=0\n",
    "\n",
    "for i in range(1,int(26500/size)):\n",
    "\n",
    "    data_train=pd.read_csv('output_'+str(i)+'.csv')\n",
    "    \n",
    "    k=k+1 \n",
    "    \n",
    "    \n",
    "    \n",
    "    data_train=pd.merge(data_train,train_output,left_on='Ids',right_on='Ids',how='inner')\n",
    "    \n",
    " \n",
    "    \n",
    "    \n",
    "    X_train=data_train.drop(['TARGET','Ids'],axis=1).values\n",
    "    y_train=data_train.loc[:,'TARGET'].values\n",
    "    \n",
    "    modele.partial_fit(X_train,y_train,classes=np.unique(y_train))\n",
    "\n",
    "    print(k)\n",
    "    print(accuracy_score(y_train, modele.predict(X_train)))\n",
    "\n"
   ]
  },
  {
   "cell_type": "code",
   "execution_count": null,
   "metadata": {},
   "outputs": [],
   "source": [
    "\n",
    "'''data_train=pd.read_csv('output_'+str(11)+'.csv')\n",
    "data_train=pd.merge(data_train,train_output,left_on='Ids',right_on='Ids',how='inner')'''\n",
    "\n",
    "print(data_train.head())"
   ]
  },
  {
   "cell_type": "code",
   "execution_count": null,
   "metadata": {},
   "outputs": [],
   "source": [
    "split(open('Xtest_challenge_owkin.csv', 'r')) #decoupage du jeu de test egalement volumineux"
   ]
  },
  {
   "cell_type": "code",
   "execution_count": 11,
   "metadata": {},
   "outputs": [
    {
     "name": "stdout",
     "output_type": "stream",
     "text": [
      "1\n",
      "2\n",
      "3\n",
      "4\n",
      "5\n",
      "6\n",
      "7\n",
      "8\n",
      "9\n",
      "10\n",
      "11\n",
      "12\n",
      "13\n",
      "14\n"
     ]
    }
   ],
   "source": [
    "#prediction sur jeu de test\n",
    "k=0\n",
    "list_results=[]\n",
    "\n",
    "for i in range(1,15):\n",
    "\n",
    "    data_test=pd.read_csv(path+'output_'+str(i)+'.csv')\n",
    "    k=k+1\n",
    "    \n",
    "    X_test=data_test.drop(['Ids'],axis=1).values\n",
    "    \n",
    "    y_result=modele.predict(data_test.drop(['Ids'],axis=1).values)\n",
    "\n",
    "    list_results.append(y_result)\n",
    "    print(k)\n"
   ]
  },
  {
   "cell_type": "code",
   "execution_count": null,
   "metadata": {},
   "outputs": [],
   "source": [
    "len(list_results)\n"
   ]
  },
  {
   "cell_type": "code",
   "execution_count": null,
   "metadata": {},
   "outputs": [],
   "source": [
    "modele.predict(X_train)"
   ]
  },
  {
   "cell_type": "code",
   "execution_count": 12,
   "metadata": {},
   "outputs": [
    {
     "data": {
      "text/plain": [
       "13250"
      ]
     },
     "execution_count": 12,
     "metadata": {},
     "output_type": "execute_result"
    }
   ],
   "source": [
    "y_pred=list_results[0]\n",
    "\n",
    "for i in list_results[1:]:\n",
    "    y_pred=np.append(y_pred,i)\n",
    "\n",
    "len(y_pred)"
   ]
  },
  {
   "cell_type": "code",
   "execution_count": 13,
   "metadata": {},
   "outputs": [],
   "source": [
    "Ids_test=pd.read_csv('Xtest_challenge_owkin.csv',sep=',',usecols=[0,1])"
   ]
  },
  {
   "cell_type": "code",
   "execution_count": 14,
   "metadata": {},
   "outputs": [
    {
     "data": {
      "text/plain": [
       "0        ID26500\n",
       "1        ID26501\n",
       "2        ID26502\n",
       "3        ID26503\n",
       "4        ID26504\n",
       "5        ID26505\n",
       "6        ID26506\n",
       "7        ID26507\n",
       "8        ID26508\n",
       "9        ID26509\n",
       "10       ID26510\n",
       "11       ID26511\n",
       "12       ID26512\n",
       "13       ID26513\n",
       "14       ID26514\n",
       "15       ID26515\n",
       "16       ID26516\n",
       "17       ID26517\n",
       "18       ID26518\n",
       "19       ID26519\n",
       "20       ID26520\n",
       "21       ID26521\n",
       "22       ID26522\n",
       "23       ID26523\n",
       "24       ID26524\n",
       "25       ID26525\n",
       "26       ID26526\n",
       "27       ID26527\n",
       "28       ID26528\n",
       "29       ID26529\n",
       "          ...   \n",
       "13220    ID39720\n",
       "13221    ID39721\n",
       "13222    ID39722\n",
       "13223    ID39723\n",
       "13224    ID39724\n",
       "13225    ID39725\n",
       "13226    ID39726\n",
       "13227    ID39727\n",
       "13228    ID39728\n",
       "13229    ID39729\n",
       "13230    ID39730\n",
       "13231    ID39731\n",
       "13232    ID39732\n",
       "13233    ID39733\n",
       "13234    ID39734\n",
       "13235    ID39735\n",
       "13236    ID39736\n",
       "13237    ID39737\n",
       "13238    ID39738\n",
       "13239    ID39739\n",
       "13240    ID39740\n",
       "13241    ID39741\n",
       "13242    ID39742\n",
       "13243    ID39743\n",
       "13244    ID39744\n",
       "13245    ID39745\n",
       "13246    ID39746\n",
       "13247    ID39747\n",
       "13248    ID39748\n",
       "13249    ID39749\n",
       "Name: Ids, Length: 13250, dtype: object"
      ]
     },
     "execution_count": 14,
     "metadata": {},
     "output_type": "execute_result"
    }
   ],
   "source": [
    "Ids_test.Ids"
   ]
  },
  {
   "cell_type": "code",
   "execution_count": 15,
   "metadata": {},
   "outputs": [],
   "source": [
    "prediction_Owkin=pd.DataFrame({'Ids':Ids_test.Ids, 'TARGET':y_pred})"
   ]
  },
  {
   "cell_type": "code",
   "execution_count": 16,
   "metadata": {},
   "outputs": [],
   "source": [
    "prediction_Owkin.to_csv('prediction_Owkin_MLP_Mini_Batch.csv',index=False,columns=['Ids','TARGET'])"
   ]
  },
  {
   "cell_type": "code",
   "execution_count": null,
   "metadata": {},
   "outputs": [],
   "source": [
    "from sklearn.metrics import accuracy_score\n",
    "\n",
    "accuracy_score(modele.predict(X_train),y_train)"
   ]
  }
 ],
 "metadata": {
  "kernelspec": {
   "display_name": "Python 3",
   "language": "python",
   "name": "python3"
  },
  "language_info": {
   "codemirror_mode": {
    "name": "ipython",
    "version": 3
   },
   "file_extension": ".py",
   "mimetype": "text/x-python",
   "name": "python",
   "nbconvert_exporter": "python",
   "pygments_lexer": "ipython3",
   "version": "3.6.4"
  }
 },
 "nbformat": 4,
 "nbformat_minor": 2
}
